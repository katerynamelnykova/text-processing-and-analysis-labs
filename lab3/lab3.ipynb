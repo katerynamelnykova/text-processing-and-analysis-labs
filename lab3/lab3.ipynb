{
 "cells": [
  {
   "cell_type": "markdown",
   "metadata": {},
   "source": [
    "# Lab work №3"
   ]
  },
  {
   "cell_type": "code",
   "execution_count": 1,
   "metadata": {},
   "outputs": [],
   "source": [
    "from sklearn.feature_extraction.text import CountVectorizer, TfidfVectorizer\n",
    "from sklearn.cluster import AgglomerativeClustering\n",
    "from gensim.models import FastText\n",
    "\n",
    "# Read the text from the file doc3.txt\n",
    "with open(\"data.txt\", \"r\", encoding=\"utf-8\") as file:\n",
    "    corpus = file.readlines()\n",
    "\n",
    "# Remove extra spaces and newline characters from each document\n",
    "corpus = [doc.strip() for doc in corpus]\n"
   ]
  },
  {
   "cell_type": "markdown",
   "metadata": {},
   "source": [
    "1) Representation of the corpus as a \"Bag of Words\" model"
   ]
  },
  {
   "cell_type": "code",
   "execution_count": 2,
   "metadata": {},
   "outputs": [
    {
     "name": "stdout",
     "output_type": "stream",
     "text": [
      "Bag of Words vector for the word 'Google': [1 1 0 0 0 0]\n"
     ]
    }
   ],
   "source": [
    "vectorizer = CountVectorizer()\n",
    "X = vectorizer.fit_transform(corpus)\n",
    "\n",
    "# Output the vector for the word \"Google\"\n",
    "word_index = vectorizer.vocabulary_.get(\"google\")\n",
    "google_vector = X[:, word_index].toarray().reshape(-1)\n",
    "print(\"Bag of Words vector for the word 'Google':\", google_vector)"
   ]
  },
  {
   "cell_type": "markdown",
   "metadata": {},
   "source": [
    "2) Representation of the corpus as a TF-IDF model and document clustering"
   ]
  },
  {
   "cell_type": "code",
   "execution_count": 3,
   "metadata": {},
   "outputs": [
    {
     "name": "stdout",
     "output_type": "stream",
     "text": [
      "Document 0 belongs to the cluster 0\n",
      "Document 1 belongs to the cluster 0\n",
      "Document 2 belongs to the cluster 2\n",
      "Document 3 belongs to the cluster 1\n",
      "Document 4 belongs to the cluster 1\n",
      "Document 5 belongs to the cluster 2\n"
     ]
    }
   ],
   "source": [
    "tfidf_vectorizer = TfidfVectorizer()\n",
    "X_tfidf = tfidf_vectorizer.fit_transform(corpus)\n",
    "cluster = AgglomerativeClustering(n_clusters=3, metric='cosine', linkage='complete')\n",
    "cluster.fit(X_tfidf.toarray())\n",
    "\n",
    "# Output clustering results\n",
    "for i in range(len(corpus)):\n",
    "    print(f\"Document {i} belongs to the cluster {cluster.labels_[i]}\")\n"
   ]
  },
  {
   "cell_type": "markdown",
   "metadata": {},
   "source": [
    "3) Representing the corpus as a FastText model and finding similar words"
   ]
  },
  {
   "cell_type": "code",
   "execution_count": 4,
   "metadata": {},
   "outputs": [
    {
     "name": "stdout",
     "output_type": "stream",
     "text": [
      "Similar words to 'turkey': [('turkey,', 0.5891311168670654), ('study', 0.2828451097011566), ('aggressive', 0.2146170735359192), ('moodie', 0.21460504829883575), ('as', 0.19681425392627716), ('wish', 0.19428378343582153), ('recent', 0.1717228889465332), ('for', 0.16293345391750336), ('business', 0.1537935584783554), ('it', 0.13881070911884308)]\n",
      "Similar words to 'mummies': [('mummy', 0.33721062541007996), ('physical', 0.2892851233482361), ('museum', 0.2338668555021286), ('scans', 0.20716418325901031), ('a', 0.1874062865972519), ('offer', 0.16361810266971588), ('has', 0.1550835222005844), ('target', 0.12729111313819885), ('roy', 0.12484798580408096), ('practices', 0.12458924204111099)]\n"
     ]
    }
   ],
   "source": [
    "tokenized_corpus = [doc.lower().split() for doc in corpus]\n",
    "model = FastText(tokenized_corpus, vector_size=100, window=5, min_count=1, workers=4, sg=1)\n",
    "similar_words_turkey = model.wv.most_similar(\"turkey\")\n",
    "similar_words_mummies = model.wv.most_similar(\"mummies\")\n",
    "\n",
    "print(\"Similar words to 'turkey':\", similar_words_turkey)\n",
    "print(\"Similar words to 'mummies':\", similar_words_mummies)\n"
   ]
  }
 ],
 "metadata": {
  "kernelspec": {
   "display_name": "Python 3",
   "language": "python",
   "name": "python3"
  },
  "language_info": {
   "codemirror_mode": {
    "name": "ipython",
    "version": 3
   },
   "file_extension": ".py",
   "mimetype": "text/x-python",
   "name": "python",
   "nbconvert_exporter": "python",
   "pygments_lexer": "ipython3",
   "version": "3.9.6"
  }
 },
 "nbformat": 4,
 "nbformat_minor": 2
}
