{
 "cells": [
  {
   "cell_type": "markdown",
   "metadata": {},
   "source": [
    "# Lab work № 7"
   ]
  },
  {
   "cell_type": "code",
   "execution_count": 1,
   "metadata": {},
   "outputs": [
    {
     "name": "stderr",
     "output_type": "stream",
     "text": [
      "/Users/katerynamelnykova/Library/Python/3.9/lib/python/site-packages/spacy/training/iob_utils.py:149: UserWarning: [W030] Some entities could not be aligned in the text \"I watched The Shawshank Redemption yesterday.\" with entities \"[(10, 32, 'MOVIE')]\". Use `spacy.training.offsets_to_biluo_tags(nlp.make_doc(text), entities)` to check the alignment. Misaligned entities ('-') will be ignored during training.\n",
      "  warnings.warn(\n",
      "/Users/katerynamelnykova/Library/Python/3.9/lib/python/site-packages/spacy/training/iob_utils.py:149: UserWarning: [W030] Some entities could not be aligned in the text \"Have you seen The Godfather trilogy?\" with entities \"[(12, 28, 'MOVIE')]\". Use `spacy.training.offsets_to_biluo_tags(nlp.make_doc(text), entities)` to check the alignment. Misaligned entities ('-') will be ignored during training.\n",
      "  warnings.warn(\n"
     ]
    }
   ],
   "source": [
    "import spacy\n",
    "from spacy.training import Example\n",
    "\n",
    "# Load the spaCy model\n",
    "nlp = spacy.load(\"en_core_web_sm\")\n",
    "\n",
    "# Add a new entity type \"MOVIE\"\n",
    "ner = nlp.get_pipe(\"ner\")  # Get the Named Entity Recognition (NER) component\n",
    "ner.add_label(\"MOVIE\")  # Add the new label to the NER component\n",
    "\n",
    "# Prepare training data with examples\n",
    "train_data = [\n",
    "    (\"I watched The Shawshank Redemption yesterday.\", {\"entities\": [(10, 32, \"MOVIE\")]}),\n",
    "    (\"Have you seen The Godfather trilogy?\", {\"entities\": [(12, 28, \"MOVIE\")]}),\n",
    "    (\"Avatar is one of the highest-grossing films of all time.\", {\"entities\": [(0, 6, \"MOVIE\")]}),\n",
    "    (\"The Hobbit series is based on J.R.R. Tolkien's novels.\", {\"entities\": [(4, 26, \"MOVIE\")]})\n",
    "]\n",
    "\n",
    "# Train the model\n",
    "epochs = 20\n",
    "other_pipes = [pipe for pipe in nlp.pipe_names if pipe != 'ner']  # Exclude other pipes\n",
    "with nlp.disable_pipes(*other_pipes):  # Disable other components to avoid unintended effects\n",
    "    optimizer = nlp.create_optimizer()\n",
    "    for i in range(epochs):\n",
    "        for text, annotations in train_data:\n",
    "            example = Example.from_dict(nlp.make_doc(text), annotations)  # Create an example\n",
    "            nlp.update([example], sgd=optimizer)  # Update the model with the example\n",
    "\n",
    "# Save the trained model\n",
    "nlp.to_disk(\"updated_model\")\n"
   ]
  },
  {
   "cell_type": "code",
   "execution_count": 2,
   "metadata": {},
   "outputs": [
    {
     "name": "stdout",
     "output_type": "stream",
     "text": [
      "Entity: Hobbit and The Godfather movies yesterday., Type: MOVIE\n",
      "Entity: Avatar, Type: MOVIE\n"
     ]
    }
   ],
   "source": [
    "import spacy\n",
    "\n",
    "# Load the saved model\n",
    "nlp_updated = spacy.load(\"updated_model\")\n",
    "\n",
    "# Example texts for entity recognition\n",
    "texts = [\n",
    "    \"I watched Hobbit and The Godfather movies yesterday.\",\n",
    "    \"Avatar and The Godfather are both great movies.\",\n",
    "    \n",
    "]\n",
    "\n",
    "# Process the text and print the results\n",
    "for text in texts:\n",
    "    doc = nlp_updated(text)\n",
    "    for ent in doc.ents:\n",
    "        print(f\"Entity: {ent.text}, Type: {ent.label_}\")\n"
   ]
  },
  {
   "cell_type": "code",
   "execution_count": 3,
   "metadata": {},
   "outputs": [
    {
     "name": "stdout",
     "output_type": "stream",
     "text": [
      "Epoch: 0 Loss: {'textcat': 16.61813126443656}\n",
      "Epoch: 1 Loss: {'textcat': 1.45699253639835}\n",
      "Epoch: 2 Loss: {'textcat': 0.42873207534197016}\n",
      "Epoch: 3 Loss: {'textcat': 0.25800743327148834}\n",
      "Epoch: 4 Loss: {'textcat': 0.44003462200823823}\n",
      "Epoch: 5 Loss: {'textcat': 0.22017732132993317}\n",
      "Epoch: 6 Loss: {'textcat': 0.14170518438258217}\n",
      "Epoch: 7 Loss: {'textcat': 6.334935298198521e-07}\n",
      "Epoch: 8 Loss: {'textcat': 5.500647026242295e-08}\n",
      "Epoch: 9 Loss: {'textcat': 3.1111652963672695e-08}\n",
      "Epoch: 10 Loss: {'textcat': 2.0023922573652193e-08}\n",
      "Epoch: 11 Loss: {'textcat': 1.3859434004146231e-08}\n",
      "Epoch: 12 Loss: {'textcat': 1.1497401733235777e-08}\n",
      "Epoch: 13 Loss: {'textcat': 7.314900104227051e-09}\n",
      "Epoch: 14 Loss: {'textcat': 5.476195898313521e-09}\n",
      "Epoch: 15 Loss: {'textcat': 4.303139062347723e-09}\n",
      "Epoch: 16 Loss: {'textcat': 3.3619002888679955e-09}\n",
      "Epoch: 17 Loss: {'textcat': 2.633154477905171e-09}\n",
      "Epoch: 18 Loss: {'textcat': 2.089925247234445e-09}\n",
      "Epoch: 19 Loss: {'textcat': 1.6386017549212253e-09}\n"
     ]
    }
   ],
   "source": [
    "import json\n",
    "import spacy\n",
    "from spacy.training import Example\n",
    "from spacy.util import minibatch, compounding\n",
    "import random\n",
    "\n",
    "with open(\"movies.json\", \"r\") as f:\n",
    "    data = json.load(f)\n",
    "\n",
    "# Initialize spaCy model\n",
    "nlp = spacy.blank(\"en\")\n",
    "\n",
    "# Add TextCategorizer\n",
    "textcat = nlp.add_pipe(\"textcat\")\n",
    "\n",
    "# Add labels (intents)\n",
    "textcat.add_label(\"FindMovies\")\n",
    "textcat.add_label(\"AnotherTopic\")\n",
    "\n",
    "# Prepare training data from the data in the movies.json file\n",
    "train_data = []\n",
    "for dialogue in data:\n",
    "    for turn in dialogue.get(\"turns\", []):\n",
    "        utterance = turn.get(\"utterance\", \"\")\n",
    "        try:\n",
    "            intent = turn[\"frames\"][0][\"state\"].get(\"active_intent\", \"\")\n",
    "        except:\n",
    "            continue\n",
    "        if utterance and intent:\n",
    "            cats = {\"FindMovies\": 1 if intent == \"FindMovies\" else 0, \"AnotherTopic\": 1 if intent != \"FindMovies\" else 0}\n",
    "            train_data.append((utterance, {\"cats\": cats}))\n",
    "\n",
    "# Convert training data to Example objects\n",
    "train_examples = []\n",
    "for text, annotations in train_data:\n",
    "    doc = nlp.make_doc(text)\n",
    "    example = Example.from_dict(doc, annotations)\n",
    "    train_examples.append(example)\n",
    "\n",
    "# Train TextCategorizer\n",
    "nlp.begin_training()\n",
    "for epoch in range(20):\n",
    "    random.shuffle(train_examples)\n",
    "    losses = {}\n",
    "    batches = minibatch(train_examples, size=compounding(4.0, 32.0, 1.001))\n",
    "    for batch in batches:\n",
    "        nlp.update(batch, losses=losses)\n",
    "    print(\"Epoch:\", epoch, \"Loss:\", losses)\n"
   ]
  },
  {
   "cell_type": "code",
   "execution_count": 4,
   "metadata": {},
   "outputs": [
    {
     "name": "stdout",
     "output_type": "stream",
     "text": [
      "Test case: Can you recommend a good comedy movie?\n",
      "Predicted intents: {'FindMovies': 0.9999258518218994, 'AnotherTopic': 7.416699372697622e-05}\n",
      "Test case: I'm looking for a movie theater near the city center.\n",
      "Predicted intents: {'FindMovies': 0.9999977350234985, 'AnotherTopic': 2.2651427116215928e-06}\n",
      "Test case: What's playing at the cinema downtown?\n",
      "Predicted intents: {'FindMovies': 0.012687030248343945, 'AnotherTopic': 0.9873129725456238}\n",
      "Test case: I need suggestions for family-friendly movies.\n",
      "Predicted intents: {'FindMovies': 0.9999991655349731, 'AnotherTopic': 8.017313462005404e-07}\n",
      "Test case: Is there a theater showing the Romeo and Juliet?\n",
      "Predicted intents: {'FindMovies': 0.0108707956969738, 'AnotherTopic': 0.9891291856765747}\n",
      "Test case: Where can I watch a romantic movie tonight?\n",
      "Predicted intents: {'FindMovies': 0.9999994039535522, 'AnotherTopic': 5.513458063433063e-07}\n",
      "Test case: Let's do the homework\n",
      "Predicted intents: {'FindMovies': 1.9524395611369982e-05, 'AnotherTopic': 0.9999804496765137}\n",
      "Test case: I wanna read this book\n",
      "Predicted intents: {'FindMovies': 0.7768092155456543, 'AnotherTopic': 0.2231908142566681}\n"
     ]
    }
   ],
   "source": [
    "# Тестування моделі на тестових даних\n",
    "test_cases = [\n",
    "    \"Can you recommend a good comedy movie?\",\n",
    "    \"I'm looking for a movie theater near the city center.\",\n",
    "    \"What's playing at the cinema downtown?\",\n",
    "    \"I need suggestions for family-friendly movies.\",\n",
    "    \"Is there a theater showing the Romeo and Juliet?\",\n",
    "    \"Where can I watch a romantic movie tonight?\",\n",
    "    \"Let's do the homework\",\n",
    "    \"I wanna read this book\",\n",
    "]\n",
    "\n",
    "for test_case in test_cases:\n",
    "    doc = nlp(test_case)\n",
    "    predicted_intents = doc.cats\n",
    "    print(\"Test case:\", test_case)\n",
    "    print(\"Predicted intents:\", predicted_intents)"
   ]
  }
 ],
 "metadata": {
  "kernelspec": {
   "display_name": "Python 3",
   "language": "python",
   "name": "python3"
  },
  "language_info": {
   "codemirror_mode": {
    "name": "ipython",
    "version": 3
   },
   "file_extension": ".py",
   "mimetype": "text/x-python",
   "name": "python",
   "nbconvert_exporter": "python",
   "pygments_lexer": "ipython3",
   "version": "3.9.6"
  }
 },
 "nbformat": 4,
 "nbformat_minor": 2
}
