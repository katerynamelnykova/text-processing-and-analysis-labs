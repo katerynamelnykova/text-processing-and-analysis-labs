{
 "cells": [
  {
   "cell_type": "markdown",
   "metadata": {},
   "source": [
    "# Lab work №1"
   ]
  },
  {
   "cell_type": "markdown",
   "metadata": {},
   "source": [
    "First, let's read the text and use slices to separate a 60-character string into a separate variable:"
   ]
  },
  {
   "cell_type": "code",
   "execution_count": 8,
   "metadata": {},
   "outputs": [
    {
     "name": "stdout",
     "output_type": "stream",
     "text": [
      "At three  o'clock 12/05/1895 precisely I was at BAKEr Street, but HOlmes had not\n",
      "yet returned (005)-456-34-23. The landlady informed me that he baker_street@here.uk had left the house\n",
      "shortly after eight o'clock in the morning. I sat down beside the\n",
      "fire, however, with the intention of awaiting him,, however long he\n",
      "might be. 145 124 245 I was already 67-56-34 deeply interested in his inquiry, for, though\n",
      "it was surrounded by none of the grim and strange features which\n",
      "were WATson3@gmail.com associated with the two crimes which I have already recorded,\n",
      "still, the nature of  the case and the exalted station of his client\n",
      "gave it a character of its own 1896/01/23.. Indeed, apart from the nature of the\n",
      "investigation which my friend had on hand, there was something in his\n",
      "masterly 5618 4582 8225 1471 grasp of a situation, and his (03)-8-45-34 keen, incisive reasoning, which\n",
      "made it a pleasure to me to study his system of work, and to follow the\n",
      "quick, subtle 4987 1514 6555 4212 methods by which he disentangled the most inextricable\n",
      "mysteries. So accustomed was I ShHolmes@mail.uk to his invariable success that the very\n",
      "possibility of his failing  had ceased to enter into my head.\n",
      "\n",
      "At three  o'clock 12/05/1895 precisely I was at BAKEr Street\n"
     ]
    }
   ],
   "source": [
    "text_file = open(\"data.txt\", \"r\")\n",
    "text = text_file.read()\n",
    "text_file.close()\n",
    "\n",
    "line = text[:60]\n",
    "\n",
    "print(text)\n",
    "print(line)"
   ]
  },
  {
   "cell_type": "markdown",
   "metadata": {},
   "source": [
    "Let's use the following functions to work with text:"
   ]
  },
  {
   "cell_type": "code",
   "execution_count": 9,
   "metadata": {},
   "outputs": [
    {
     "name": "stdout",
     "output_type": "stream",
     "text": [
      "First character: A\n",
      "Elements from start to fourth: At t\n",
      "Every second element: A he ocok1/519 rcsl  a tBKrSre\n",
      "Last element: t\n",
      "Count of letter t: 5\n",
      "Index of letter s: 34\n",
      "Index where 'three' starts: 3\n",
      "Upper case: AT THREE  O'CLOCK 12/05/1895 PRECISELY I WAS AT BAKER STREET\n",
      "Lower case: at three  o'clock 12/05/1895 precisely i was at baker street\n",
      "All first letters of words in upper case: At Three  O'Clock 12/05/1895 Precisely I Was At Baker Street\n",
      "First letter of the line in upper case: At three  o'clock 12/05/1895 precisely i was at baker street\n",
      "Join method: A?t? ?t?h?r?e?e? ? ?o?'?c?l?o?c?k? ?1?2?/?0?5?/?1?8?9?5? ?p?r?e?c?i?s?e?l?y? ?I? ?w?a?s? ?a?t? ?B?A?K?E?r? ?S?t?r?e?e?t\n",
      "Does the line contain only letters or digits: False\n",
      "Does the line contain only letters: False\n",
      "Does the line contain only digits: False\n",
      "Is the first letter of each word in upper case: False\n",
      "Is the third character of the line a space: True\n",
      "Does the line end with the specified character '!': False\n",
      "Does the line start with the specified character 'A': True\n",
      "Replace word 'three' with 'two':  At two  o'clock 12/05/1895 precisely I was at BAKEr Street\n",
      "Split the line by the word 'precisely':  [\"At three  o'clock 12/05/1895 \", ' I was at BAKEr Street']\n"
     ]
    }
   ],
   "source": [
    "# Slices\n",
    "print(\"First character: \" + line[0])\n",
    "print(\"Elements from start to fourth: \" + line[:4])\n",
    "print(\"Every second element: \" + line[::2])\n",
    "print(\"Last element: \" + line[-1])\n",
    "\n",
    "print(\"Count of letter t: \" + str(line.count(\"t\"))) # count of letter t\n",
    "print(\"Index of letter s: \" + str(line.find(\"s\"))) # index of letter s\n",
    "print(\"Index where 'three' starts: \" + str(line.index(\"three\"))) # index where 'three' starts\n",
    "print(\"Upper case: \" + line.upper())\n",
    "print(\"Lower case: \" + line.lower())\n",
    "print(\"All first letters of words in upper case: \" + line.title())\n",
    "print(\"First letter of the line in upper case: \" + line.capitalize())\n",
    "\n",
    "print(\"Join method: \" + \"?\".join(line))\n",
    "\n",
    "print(\"Does the line contain only letters or digits: \" + str(line.isalnum()))\n",
    "print(\"Does the line contain only letters: \" + str(line.isalpha()))\n",
    "print(\"Does the line contain only digits: \" + str(line.isdigit()))\n",
    "print(\"Is the first letter of each word in upper case: \" + str(line.istitle()))\n",
    "print(\"Is the third character of the line a space: \" + str(line[2].isspace()))\n",
    "print(\"Does the line end with the specified character '!': \" + str(line.endswith('!')))\n",
    "print(\"Does the line start with the specified character 'A': \" + str(line.startswith('A')))\n",
    "\n",
    "print(\"Replace word 'three' with 'two': \", line.replace(\"three\", \"two\"))\n",
    "\n",
    "print(\"Split the line by the word 'precisely': \", line.split(\"precisely\"))\n"
   ]
  },
  {
   "cell_type": "markdown",
   "metadata": {},
   "source": [
    "Let's use regular expressions to search for dates and reduce them to one format:"
   ]
  },
  {
   "cell_type": "code",
   "execution_count": 10,
   "metadata": {},
   "outputs": [
    {
     "name": "stdout",
     "output_type": "stream",
     "text": [
      "Found and converted dates:\n",
      "1895-05-12\n",
      "1896-01-23\n"
     ]
    }
   ],
   "source": [
    "import re\n",
    "from datetime import datetime\n",
    "\n",
    "n = re.compile(r'(\\d{1,4})[-/.](\\d{1,2})[-/.](\\d{1,4})')\n",
    "\n",
    "dates = n.findall(text)\n",
    "\n",
    "formatted_dates = []\n",
    "for date in dates:\n",
    "    day, month, year = map(int, date)\n",
    "    if(month>12):\n",
    "        day, month = month, day\n",
    "    if(day > 31):\n",
    "        day, year = year, day\n",
    "    if(day>31 or month>12):\n",
    "        continue\n",
    "    formatted_dates.append(datetime(year, month, day).strftime(\"%Y-%m-%d\"))\n",
    "\n",
    "\n",
    "print(\"Found and converted dates:\")\n",
    "for date in formatted_dates:\n",
    "    print(date)\n"
   ]
  }
 ],
 "metadata": {
  "kernelspec": {
   "display_name": "Python 3",
   "language": "python",
   "name": "python3"
  },
  "language_info": {
   "codemirror_mode": {
    "name": "ipython",
    "version": 3
   },
   "file_extension": ".py",
   "mimetype": "text/x-python",
   "name": "python",
   "nbconvert_exporter": "python",
   "pygments_lexer": "ipython3",
   "version": "3.9.6"
  }
 },
 "nbformat": 4,
 "nbformat_minor": 2
}
